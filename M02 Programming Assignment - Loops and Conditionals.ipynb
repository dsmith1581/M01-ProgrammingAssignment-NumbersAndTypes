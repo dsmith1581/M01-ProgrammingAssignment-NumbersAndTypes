{
 "cells": [
  {
   "cell_type": "code",
   "execution_count": 3,
   "id": "84647d80",
   "metadata": {},
   "outputs": [
    {
     "name": "stdout",
     "output_type": "stream",
     "text": [
      "too high\n"
     ]
    }
   ],
   "source": [
    "#\n",
    "# 4.1 - Choose a number between 1 and 10 and assign it to the variable secret.\n",
    "# Then, select another number between 1 and 10 and assign it to the variable guess.\n",
    "# Next, write the conditional tests (if, else, and elif) to print the string 'too low' if guess is less than secret, 'too high' if greater than secret, and 'just right' if equal to secret.\n",
    "#\n",
    "\n",
    "secret = 4\n",
    "guess = 7\n",
    "\n",
    "if secret == guess:\n",
    "    print(\"just right\")\n",
    "elif guess < secret:\n",
    "    print(\"too low\")\n",
    "elif guess > secret:\n",
    "    print(\"too high\")"
   ]
  },
  {
   "cell_type": "code",
   "execution_count": 4,
   "id": "e21d988d",
   "metadata": {},
   "outputs": [
    {
     "name": "stdout",
     "output_type": "stream",
     "text": [
      "cherry\n"
     ]
    }
   ],
   "source": [
    "#\n",
    "# 4.2 - Assign True or False to the variables small and green.\n",
    "# Write some if/else statements to print which of these matches those choices: cherry, pea, watermelon, pumpkin.\n",
    "#\n",
    "\n",
    "small = True\n",
    "green = False\n",
    "\n",
    "if small:\n",
    "    if green:\n",
    "        print(\"pea\")\n",
    "    else:\n",
    "        print(\"cherry\")\n",
    "else:\n",
    "    if green:\n",
    "        print(\"watermelon\")\n",
    "    else:\n",
    "        print(\"pumpkin\")"
   ]
  },
  {
   "cell_type": "code",
   "execution_count": 5,
   "id": "432c4e03",
   "metadata": {},
   "outputs": [
    {
     "name": "stdout",
     "output_type": "stream",
     "text": [
      "3\n",
      "2\n",
      "1\n",
      "0\n"
     ]
    }
   ],
   "source": [
    "#\n",
    "# 6.1 - Use a for loop to print the values of the list [3, 2, 1, 0]\n",
    "#\n",
    "\n",
    "list = [3, 2, 1, 0]\n",
    "for value in list:\n",
    "    print(value)"
   ]
  },
  {
   "cell_type": "code",
   "execution_count": 7,
   "id": "cf3cc8e7",
   "metadata": {},
   "outputs": [
    {
     "name": "stdout",
     "output_type": "stream",
     "text": [
      "too low\n",
      "too low\n",
      "too low\n",
      "too low\n",
      "too low\n",
      "too low\n",
      "found it!\n"
     ]
    }
   ],
   "source": [
    "#\n",
    "# 6.2 - Assign the value 7 to the variable guess_me, and the value 1 to the variable number.\n",
    "# Write a while loop that compares number with guess_me.\n",
    "# Print 'too low' if number is less than guess_me.\n",
    "# If number equals guess_me, print 'found it!' and then exit the loop.\n",
    "# If number is greater than guess_me, print 'oops' and then exit the loop.\n",
    "# Increment number at the end of the loop.\n",
    "#\n",
    "\n",
    "guess_me = 7\n",
    "number = 1\n",
    "\n",
    "while True:\n",
    "    if number == guess_me:\n",
    "        print(\"found it!\")\n",
    "        break\n",
    "    elif number < guess_me:\n",
    "        print(\"too low\")\n",
    "    elif number > guess_me:\n",
    "        print(\"oops\")\n",
    "        break\n",
    "    number += 1"
   ]
  },
  {
   "cell_type": "code",
   "execution_count": 8,
   "id": "e16e6a36",
   "metadata": {},
   "outputs": [
    {
     "name": "stdout",
     "output_type": "stream",
     "text": [
      "too low\n",
      "too low\n",
      "too low\n",
      "too low\n",
      "too low\n",
      "found it!\n"
     ]
    }
   ],
   "source": [
    "#\n",
    "# 6.3 - Assign the value 5 to the variable guess_me.\n",
    "# Use a for loop to iterate a variable called number over range(10).\n",
    "# If number is less than guess_me, print 'too low'.\n",
    "# If it equals guess_me, print found it! and then break out of the for loop.\n",
    "# If number is greater than guess_me, print 'oops' and then exit the loop.\n",
    "#\n",
    "\n",
    "guess_me = 5\n",
    "\n",
    "for number in range(10):\n",
    "    if number == guess_me:\n",
    "        print(\"found it!\")\n",
    "        break\n",
    "    elif number < guess_me:\n",
    "        print(\"too low\")\n",
    "    elif number > guess_me:\n",
    "        print(\"oops\")\n",
    "        break"
   ]
  },
  {
   "cell_type": "code",
   "execution_count": null,
   "id": "a7053442",
   "metadata": {},
   "outputs": [],
   "source": []
  }
 ],
 "metadata": {
  "kernelspec": {
   "display_name": "Python 3 (ipykernel)",
   "language": "python",
   "name": "python3"
  },
  "language_info": {
   "codemirror_mode": {
    "name": "ipython",
    "version": 3
   },
   "file_extension": ".py",
   "mimetype": "text/x-python",
   "name": "python",
   "nbconvert_exporter": "python",
   "pygments_lexer": "ipython3",
   "version": "3.11.5"
  }
 },
 "nbformat": 4,
 "nbformat_minor": 5
}
