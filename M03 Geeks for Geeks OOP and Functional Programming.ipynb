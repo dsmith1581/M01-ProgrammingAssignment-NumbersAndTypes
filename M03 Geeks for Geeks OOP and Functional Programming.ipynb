{
 "cells": [
  {
   "cell_type": "code",
   "execution_count": 14,
   "id": "e4255941",
   "metadata": {},
   "outputs": [],
   "source": [
    "# Daniel Smith\n",
    "# M03 Geeks for Geeks\n",
    "# Solutions to the M03 Geeks for Geeks assigned problems"
   ]
  },
  {
   "cell_type": "code",
   "execution_count": 13,
   "id": "3cc2cb9f",
   "metadata": {},
   "outputs": [
    {
     "name": "stdout",
     "output_type": "stream",
     "text": [
      "2\n",
      "5\n",
      "0 2 1 2 0\n",
      "0 0 1 2 2 \n",
      "5\n",
      "1 2 0 2 1\n",
      "0 1 1 2 2 \n"
     ]
    }
   ],
   "source": [
    "### OOP Sample\n",
    "\n",
    "class Solution:\n",
    "    def sort012(self,arr,n):\n",
    "        # Initialize three pointers\n",
    "        low, mid, high = 0, 0, n - 1\n",
    "\n",
    "        while mid <= high:\n",
    "            if arr[mid] == 0:\n",
    "                # Swap arr[low] and arr[mid] and increment low and mid\n",
    "                arr[low], arr[mid] = arr[mid], arr[low]\n",
    "                low += 1\n",
    "                mid += 1\n",
    "            elif arr[mid] == 1:\n",
    "                # If the element is 1, move to the next element\n",
    "                mid += 1\n",
    "            else:\n",
    "                # If the element is 2, swap arr[mid] and arr[high] and decrement high\n",
    "                arr[high], arr[mid] = arr[mid], arr[high]\n",
    "                high -= 1\n",
    "        # The array is sorted in place, no need to return it\n",
    "\n",
    "#{ \n",
    " # Driver Code Starts\n",
    "#Initial Template for Python 3\n",
    "\n",
    "if __name__ == '__main__':\n",
    "    t=int(input())\n",
    "    for _ in range(t):\n",
    "        n=int(input())\n",
    "        arr=[int(x) for x in input().strip().split()]\n",
    "        ob=Solution()\n",
    "        ob.sort012(arr,n)\n",
    "        for i in arr:\n",
    "            print(i, end=' ')\n",
    "        print()\n",
    "\n",
    "# } Driver Code Ends"
   ]
  },
  {
   "cell_type": "code",
   "execution_count": 15,
   "id": "deffc93e",
   "metadata": {},
   "outputs": [
    {
     "name": "stdout",
     "output_type": "stream",
     "text": [
      "2\n",
      "5\n",
      "1 2 3 4 5\n",
      "3\n",
      "2\n",
      "7\n",
      "10 20 30 40 50 60 70\n",
      "50\n",
      "4\n"
     ]
    }
   ],
   "source": [
    "### Functional Sample\n",
    "\n",
    "class Solution:\n",
    "    def binarysearch(self, arr, n, k):\n",
    "        # Define the binary search using lambda\n",
    "        binary_search = lambda low, high: (\n",
    "            -1 if low > high else  # If the range is invalid, return -1\n",
    "            (\n",
    "                (low + high) // 2 if arr[(low + high) // 2] == k else  # If the middle element is the target, return its position\n",
    "                binary_search(low, (low + high) // 2 - 1) if arr[(low + high) // 2] > k else  # Search in the left half\n",
    "                binary_search((low + high) // 2 + 1, high)  # Search in the right half\n",
    "            )\n",
    "        )\n",
    "\n",
    "        # Call the binary search\n",
    "        return binary_search(0, n - 1)\n",
    "\n",
    "#{ \n",
    " # Driver Code Starts\n",
    "#Initial template for Python\n",
    "\n",
    "if __name__ == '__main__':\n",
    "    t=int(input())\n",
    "    for i in range(t):\n",
    "        n=int(input())\n",
    "        arr=list(map(int, input().strip().split(' ')))\n",
    "        k=int(input())\n",
    "        ob = Solution()\n",
    "        print (ob.binarysearch(arr, n, k))\n",
    "\n",
    "\n",
    "# } Driver Code Ends"
   ]
  },
  {
   "cell_type": "code",
   "execution_count": null,
   "id": "96fd0761",
   "metadata": {},
   "outputs": [],
   "source": []
  }
 ],
 "metadata": {
  "kernelspec": {
   "display_name": "Python 3 (ipykernel)",
   "language": "python",
   "name": "python3"
  },
  "language_info": {
   "codemirror_mode": {
    "name": "ipython",
    "version": 3
   },
   "file_extension": ".py",
   "mimetype": "text/x-python",
   "name": "python",
   "nbconvert_exporter": "python",
   "pygments_lexer": "ipython3",
   "version": "3.11.5"
  }
 },
 "nbformat": 4,
 "nbformat_minor": 5
}
