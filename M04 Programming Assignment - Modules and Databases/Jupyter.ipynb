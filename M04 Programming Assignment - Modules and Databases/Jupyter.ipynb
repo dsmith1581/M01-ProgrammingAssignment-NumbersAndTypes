{
 "cells": [
  {
   "cell_type": "code",
   "execution_count": 1,
   "id": "6ef8682a",
   "metadata": {},
   "outputs": [],
   "source": [
    "# Daniel Smith\n",
    "# M04 Programming Assignment\n",
    "# Selected problems 11.1, 11.2, and 16.8"
   ]
  },
  {
   "cell_type": "code",
   "execution_count": 2,
   "id": "403b5c8c",
   "metadata": {},
   "outputs": [
    {
     "data": {
      "text/plain": [
       "'Open 9-5 daily'"
      ]
     },
     "execution_count": 2,
     "metadata": {},
     "output_type": "execute_result"
    }
   ],
   "source": [
    "# 11.1 - Create a file called zoo.py. In it, define a function called hours() that prints the string 'Open 9-5 daily'. Then, use the interactive interpreter to import the zoo module and call its hours() function.\n",
    "\n",
    "import zoo\n",
    "zoo.hours()"
   ]
  },
  {
   "cell_type": "code",
   "execution_count": 3,
   "id": "e1a01617",
   "metadata": {},
   "outputs": [
    {
     "data": {
      "text/plain": [
       "'Open 9-5 daily'"
      ]
     },
     "execution_count": 3,
     "metadata": {},
     "output_type": "execute_result"
    }
   ],
   "source": [
    "# 11.2 - In the interactive interpreter, import the zoo module as menagerie and call its hours() function.\n",
    "\n",
    "import zoo as menagerie\n",
    "menagerie.hours()"
   ]
  },
  {
   "cell_type": "code",
   "execution_count": 4,
   "id": "e2ab7aba",
   "metadata": {},
   "outputs": [],
   "source": [
    "# 16.8 - Use the sqlalchemy module to connect to the sqlite3 database books.db that you just made in exercise 16.4. As in 16.6, select and print the title column from the book table in alphabetical order."
   ]
  },
  {
   "cell_type": "code",
   "execution_count": 8,
   "id": "036ef102",
   "metadata": {},
   "outputs": [
    {
     "name": "stdout",
     "output_type": "stream",
     "text": [
      "2024-02-10 18:08:14,033 INFO sqlalchemy.engine.Engine INSERT INTO books (title, author, year) VALUES (?, ?, ?), (?, ?, ?), (?, ?, ?), (?, ?, ?), (?, ?, ?)\n",
      "2024-02-10 18:08:14,033 INFO sqlalchemy.engine.Engine [no key 0.00028s] ('The Weirdstone of Brisingamen', 'Alan Garner', 1960, 'Perdido Street Station', 'China Miéville', 2000, 'Thud!', 'Terry Pratchett', 2005, 'The Spellman Files', 'Lisa Lutz', 2007, 'Small Gods', 'Terry Pratchett', 1992)\n",
      "2024-02-10 18:08:14,033 INFO sqlalchemy.engine.Engine COMMIT\n",
      "Perdido Street Station\n",
      "Small Gods\n",
      "The Spellman Files\n",
      "The Weirdstone of Brisingamen\n",
      "Thud!\n"
     ]
    }
   ],
   "source": [
    "import sqlite3\n",
    "from sqlalchemy import create_engine, Table, Column, Integer, String, MetaData\n",
    "\n",
    "### Create books.db using sqlite3\n",
    "# Connect to (and create, if needed) the SQLite database\n",
    "conn = sqlite3.connect('books.db')\n",
    "cursor = conn.cursor()\n",
    "\n",
    "# Create the books table, if it doesn't exist\n",
    "create_table_query = '''\n",
    "CREATE TABLE IF NOT EXISTS books (\n",
    "    title TEXT,\n",
    "    author TEXT,\n",
    "    year INTEGER\n",
    ");\n",
    "'''\n",
    "\n",
    "cursor.execute(create_table_query)\n",
    "\n",
    "# Commit the changes and close the database connection\n",
    "conn.commit()\n",
    "conn.close()\n",
    "\n",
    "\n",
    "### Add entries to the database using SQLAlchemy\n",
    "engine = create_engine('sqlite:///books.db', echo=True)\n",
    "metadata = MetaData()\n",
    "\n",
    "# Define the books table structure again\n",
    "books = Table('books', metadata,\n",
    "              Column('title', String),\n",
    "              Column('author', String),\n",
    "              Column('year', Integer))\n",
    "\n",
    "conn = engine.connect()\n",
    "# Insert the entries\n",
    "insert_query = books.insert().values([\n",
    "    {'title': 'The Weirdstone of Brisingamen', 'author': 'Alan Garner', 'year': 1960},\n",
    "    {'title': 'Perdido Street Station', 'author': 'China Miéville', 'year': 2000},\n",
    "    {'title': 'Thud!', 'author': 'Terry Pratchett', 'year': 2005},\n",
    "    {'title': 'The Spellman Files', 'author': 'Lisa Lutz', 'year': 2007},\n",
    "    {'title': 'Small Gods', 'author': 'Terry Pratchett', 'year': 1992}\n",
    "])\n",
    "conn.execute(insert_query)\n",
    "conn.close()\n",
    "\n",
    "\n",
    "### Select, sort, and print the title column\n",
    "# Reconnect to the database using sqlite3 to then perform the query\n",
    "conn = sqlite3.connect('books.db')\n",
    "cursor = conn.cursor()\n",
    "\n",
    "# Select and print the title column in alphabetical order\n",
    "select_query = 'SELECT title FROM books ORDER BY title ASC;'\n",
    "for row in cursor.execute(select_query):\n",
    "    print(row[0])\n",
    "\n",
    "conn.close()\n"
   ]
  },
  {
   "cell_type": "code",
   "execution_count": null,
   "id": "53c8b2a5",
   "metadata": {},
   "outputs": [],
   "source": []
  }
 ],
 "metadata": {
  "kernelspec": {
   "display_name": "Python 3 (ipykernel)",
   "language": "python",
   "name": "python3"
  },
  "language_info": {
   "codemirror_mode": {
    "name": "ipython",
    "version": 3
   },
   "file_extension": ".py",
   "mimetype": "text/x-python",
   "name": "python",
   "nbconvert_exporter": "python",
   "pygments_lexer": "ipython3",
   "version": "3.11.5"
  }
 },
 "nbformat": 4,
 "nbformat_minor": 5
}
