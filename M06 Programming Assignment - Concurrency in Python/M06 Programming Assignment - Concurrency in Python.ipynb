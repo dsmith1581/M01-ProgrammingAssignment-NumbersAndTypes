{
 "cells": [
  {
   "cell_type": "code",
   "execution_count": 1,
   "id": "f6549461",
   "metadata": {},
   "outputs": [],
   "source": [
    "# Daniel Smith\n",
    "# M06 Selected Problems\n",
    "# Implements the selected homework problems for M06 Programming Assignment"
   ]
  },
  {
   "cell_type": "code",
   "execution_count": 6,
   "id": "adad6494",
   "metadata": {},
   "outputs": [],
   "source": [
    "# 13.1 - Write the current date as a string to the text file today.txt.\n",
    "\n",
    "from datetime import datetime\n",
    "\n",
    "\n",
    "with open(\"today.txt\", \"w\") as file:\n",
    "    file.write(datetime.now().strftime(\"%Y-%m-%d\"))\n"
   ]
  },
  {
   "cell_type": "code",
   "execution_count": 12,
   "id": "6e535c1a",
   "metadata": {},
   "outputs": [],
   "source": [
    "# 13.2 - Read the text file today.txt into the string today_string\n",
    "\n",
    "with open(\"today.txt\", \"r\") as file:\n",
    "    today_string = file.read()\n"
   ]
  },
  {
   "cell_type": "code",
   "execution_count": 22,
   "id": "5fa713fe",
   "metadata": {},
   "outputs": [
    {
     "name": "stdout",
     "output_type": "stream",
     "text": [
      "2024-02-19\n"
     ]
    }
   ],
   "source": [
    "# 13.3 - Parse the date from today_string\n",
    "\n",
    "parsed_date = datetime.strptime(today_string, \"%Y-%m-%d\").date()\n",
    "print(parsed_date)\n"
   ]
  },
  {
   "cell_type": "code",
   "execution_count": 25,
   "id": "1f847aca",
   "metadata": {},
   "outputs": [],
   "source": [
    "# 15.1 - Use multiprocessing to create three separate processes. Make each one wait a random number of seconds between zero and one, print the current time, and then exit.\n",
    "\n",
    "### Note: Jupyter notebooks do not support multiple processes well, this must be run as a script to get output\n",
    "\n",
    "import multiprocessing\n",
    "import time\n",
    "import random\n",
    "\n",
    "\n",
    "# Waits a random number of seconds between 0-1 before printing the current time\n",
    "def wait_worker():\n",
    "    time.sleep(random.random())\n",
    "    \n",
    "    print(time.ctime())\n",
    "\n",
    "def main():\n",
    "    processes = []\n",
    "\n",
    "    # Run the processes\n",
    "    for i in range(3):\n",
    "        process = multiprocessing.Process(target=wait_worker)\n",
    "        processes.append(process)\n",
    "        process.start()\n",
    "\n",
    "    # Wait for them to all finish\n",
    "    for p in processes:\n",
    "        process.join()\n",
    "\n",
    "if __name__ == \"__main__\":\n",
    "    main()\n"
   ]
  },
  {
   "cell_type": "code",
   "execution_count": null,
   "id": "7b430f82",
   "metadata": {},
   "outputs": [],
   "source": [
    "### Example output from terminal:\n",
    "\n",
    "#PS C:\\Files\\Local\\College\\24 Spring\\SDEV220\\M06> python test.py\n",
    "#Mon Feb 19 17:05:51 2024\n",
    "#Mon Feb 19 17:05:52 2024\n",
    "#Mon Feb 19 17:05:52 2024"
   ]
  }
 ],
 "metadata": {
  "kernelspec": {
   "display_name": "Python 3 (ipykernel)",
   "language": "python",
   "name": "python3"
  },
  "language_info": {
   "codemirror_mode": {
    "name": "ipython",
    "version": 3
   },
   "file_extension": ".py",
   "mimetype": "text/x-python",
   "name": "python",
   "nbconvert_exporter": "python",
   "pygments_lexer": "ipython3",
   "version": "3.11.5"
  }
 },
 "nbformat": 4,
 "nbformat_minor": 5
}
