{
 "cells": [
  {
   "cell_type": "code",
   "execution_count": 1,
   "id": "68013420",
   "metadata": {},
   "outputs": [],
   "source": [
    "# Daniel Smith\n",
    "# M03 Programming Assignment\n",
    "# Selected homework problems from chapters 7 and 9"
   ]
  },
  {
   "cell_type": "code",
   "execution_count": 18,
   "id": "c794dba6",
   "metadata": {},
   "outputs": [],
   "source": [
    "### 7.4 - Make a list called things with these three strings as elements: \"mozzarella\", \"cinderella\", \"salmonella\".\n",
    "\n",
    "things = [\"mozzarella\", \"cinderella\", \"salmonella\"]"
   ]
  },
  {
   "cell_type": "code",
   "execution_count": 19,
   "id": "cc4bf6cc",
   "metadata": {},
   "outputs": [
    {
     "name": "stdout",
     "output_type": "stream",
     "text": [
      "['mozzarella', 'cinderella', 'salmonella']\n"
     ]
    }
   ],
   "source": [
    "### 7.5 - Capitalize the element in things that refers to a person and then print the list. Did it change the element in the list?\n",
    "\n",
    "things[1].capitalize()\n",
    "\n",
    "print(things)"
   ]
  },
  {
   "cell_type": "code",
   "execution_count": 5,
   "id": "c5cd53af",
   "metadata": {},
   "outputs": [],
   "source": [
    "# No, the element was not changed since it was not re-assigned via things[1] = things[1].capitalize()"
   ]
  },
  {
   "cell_type": "code",
   "execution_count": 20,
   "id": "41a34b08",
   "metadata": {},
   "outputs": [
    {
     "name": "stdout",
     "output_type": "stream",
     "text": [
      "['MOZZARELLA', 'cinderella', 'salmonella']\n"
     ]
    }
   ],
   "source": [
    "### 7.6 - Make the cheesy element of things all uppercase and then print the list.\n",
    "\n",
    "things[0] = things[0].upper()\n",
    "\n",
    "print(things)"
   ]
  },
  {
   "cell_type": "code",
   "execution_count": 21,
   "id": "210332dd",
   "metadata": {},
   "outputs": [
    {
     "name": "stdout",
     "output_type": "stream",
     "text": [
      "Finally, this Nobel Prize validates what my fortune cookie predicted last week.\n",
      "['MOZZARELLA', 'cinderella']\n"
     ]
    }
   ],
   "source": [
    "### 7.7 - Delete the disease element from things, collect your Nobel Prize, and print the list.\n",
    "\n",
    "del things[2]\n",
    "\n",
    "print(\"Finally, this Nobel Prize validates what my fortune cookie predicted last week.\")\n",
    "print(things)"
   ]
  },
  {
   "cell_type": "code",
   "execution_count": 22,
   "id": "1c61d167",
   "metadata": {},
   "outputs": [],
   "source": [
    "### 9.1 - Define a function called good() that returns the following list: ['Harry', 'Ron', 'Hermione'].\n",
    "\n",
    "def good():\n",
    "    return [\"Harry\", \"Ron\", \"Hermione\"]"
   ]
  },
  {
   "cell_type": "code",
   "execution_count": 25,
   "id": "a2bc0ddf",
   "metadata": {},
   "outputs": [
    {
     "name": "stdout",
     "output_type": "stream",
     "text": [
      "5\n"
     ]
    }
   ],
   "source": [
    "### 9.2 - Define a generator function called get_odds() that returns the odd numbers from range(10). Use a for loop to find and print the third value returned.\n",
    "\n",
    "# Generator\n",
    "def get_odds():\n",
    "     for number in range(10):\n",
    "         if number % 2 != 0:\n",
    "            yield number\n",
    "\n",
    "# For loop to print 3rd number\n",
    "odd_numbers = get_odds()\n",
    "for i, number in enumerate(odd_numbers):\n",
    "     if i == 2:  # third item (0-indexed)\n",
    "        print(number)\n",
    "        break"
   ]
  },
  {
   "cell_type": "code",
   "execution_count": null,
   "id": "7a55f97e",
   "metadata": {},
   "outputs": [],
   "source": []
  }
 ],
 "metadata": {
  "kernelspec": {
   "display_name": "Python 3 (ipykernel)",
   "language": "python",
   "name": "python3"
  },
  "language_info": {
   "codemirror_mode": {
    "name": "ipython",
    "version": 3
   },
   "file_extension": ".py",
   "mimetype": "text/x-python",
   "name": "python",
   "nbconvert_exporter": "python",
   "pygments_lexer": "ipython3",
   "version": "3.11.5"
  }
 },
 "nbformat": 4,
 "nbformat_minor": 5
}
