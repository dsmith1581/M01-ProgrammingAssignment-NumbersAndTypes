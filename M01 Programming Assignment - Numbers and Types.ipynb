{
 "cells": [
  {
   "cell_type": "code",
   "execution_count": 8,
   "id": "2d70a5a7",
   "metadata": {},
   "outputs": [
    {
     "data": {
      "text/plain": [
       "3600"
      ]
     },
     "execution_count": 8,
     "metadata": {},
     "output_type": "execute_result"
    }
   ],
   "source": [
    "#\n",
    "#3.1 - How many seconds are in an hour?\n",
    "#\n",
    "60*60"
   ]
  },
  {
   "cell_type": "code",
   "execution_count": 3,
   "id": "e0231eb5",
   "metadata": {},
   "outputs": [],
   "source": [
    "#There are 3600 seconds in an hour."
   ]
  },
  {
   "cell_type": "code",
   "execution_count": 7,
   "id": "f90e7eaa",
   "metadata": {},
   "outputs": [],
   "source": [
    "#\n",
    "#3.2 - Assign the result from the previous task (seconds in an hour) to a variable called seconds_per_hour.\n",
    "#\n",
    "seconds_per_hour = 3600"
   ]
  },
  {
   "cell_type": "code",
   "execution_count": 9,
   "id": "a3db2abb",
   "metadata": {},
   "outputs": [
    {
     "data": {
      "text/plain": [
       "86400"
      ]
     },
     "execution_count": 9,
     "metadata": {},
     "output_type": "execute_result"
    }
   ],
   "source": [
    "#\n",
    "#3.3 - How many seconds are in a day?\n",
    "#\n",
    "seconds_per_hour * 24"
   ]
  },
  {
   "cell_type": "code",
   "execution_count": 12,
   "id": "50b18b4a",
   "metadata": {},
   "outputs": [],
   "source": [
    "#There are 86400 seconds in a day"
   ]
  },
  {
   "cell_type": "code",
   "execution_count": 13,
   "id": "49fb9651",
   "metadata": {},
   "outputs": [],
   "source": [
    "#\n",
    "#3.4 - Save the result in a variable called seconds_per_day\n",
    "#\n",
    "seconds_per_day = seconds_per_hour * 24"
   ]
  },
  {
   "cell_type": "code",
   "execution_count": 14,
   "id": "5625b677",
   "metadata": {},
   "outputs": [
    {
     "data": {
      "text/plain": [
       "24.0"
      ]
     },
     "execution_count": 14,
     "metadata": {},
     "output_type": "execute_result"
    }
   ],
   "source": [
    "#\n",
    "#3.5 - Divide seconds_per_day by seconds_per_hour using folating-point division\n",
    "#\n",
    "seconds_per_day / seconds_per_hour"
   ]
  },
  {
   "cell_type": "code",
   "execution_count": 15,
   "id": "8f9245f2",
   "metadata": {},
   "outputs": [
    {
     "data": {
      "text/plain": [
       "24"
      ]
     },
     "execution_count": 15,
     "metadata": {},
     "output_type": "execute_result"
    }
   ],
   "source": [
    "#\n",
    "#3.6 - Divide seconds_per_day by seconds_per_hour using integer division. Did this number agree with the floating point value beside the final .0?\n",
    "#\n",
    "seconds_per_day // seconds_per_hour"
   ]
  },
  {
   "cell_type": "code",
   "execution_count": 16,
   "id": "3f104a51",
   "metadata": {},
   "outputs": [],
   "source": [
    "#Yes, the number agrees outside of the decimal point"
   ]
  },
  {
   "cell_type": "code",
   "execution_count": null,
   "id": "17f5c645",
   "metadata": {},
   "outputs": [],
   "source": []
  }
 ],
 "metadata": {
  "kernelspec": {
   "display_name": "Python 3 (ipykernel)",
   "language": "python",
   "name": "python3"
  },
  "language_info": {
   "codemirror_mode": {
    "name": "ipython",
    "version": 3
   },
   "file_extension": ".py",
   "mimetype": "text/x-python",
   "name": "python",
   "nbconvert_exporter": "python",
   "pygments_lexer": "ipython3",
   "version": "3.11.5"
  }
 },
 "nbformat": 4,
 "nbformat_minor": 5
}
